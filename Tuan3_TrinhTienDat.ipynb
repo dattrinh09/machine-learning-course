{
  "nbformat": 4,
  "nbformat_minor": 0,
  "metadata": {
    "colab": {
      "name": "Tuan3_TrinhTienDat.ipynb",
      "provenance": []
    },
    "kernelspec": {
      "name": "python3",
      "display_name": "Python 3"
    }
  },
  "cells": [
    {
      "cell_type": "code",
      "metadata": {
        "id": "iqexx80GvBtN"
      },
      "source": [
        "import numpy as np"
      ],
      "execution_count": 20,
      "outputs": []
    },
    {
      "cell_type": "code",
      "metadata": {
        "id": "oOTkLSctaKnj"
      },
      "source": [
        "#Load dataset\n",
        "from sklearn.datasets import load_iris\n",
        "data = load_iris()\n",
        "X, Y = data.data, data.target"
      ],
      "execution_count": 21,
      "outputs": []
    },
    {
      "cell_type": "code",
      "metadata": {
        "id": "KCYT-vJ9ahn8"
      },
      "source": [
        "idx = Y > 0\n",
        "X = X[idx,:]\n",
        "Y = Y[idx]"
      ],
      "execution_count": 22,
      "outputs": []
    },
    {
      "cell_type": "code",
      "metadata": {
        "id": "2ULl2Up1a-0e"
      },
      "source": [
        "#Data normalization\n",
        "for i in range(X.shape[1]):\n",
        "  X[:,i] = (X[:,i] - np.mean(X[:,i])) / np.std(X[:,i])\n",
        "Y = Y - 1\n",
        "X = np.hstack([np.ones((X.shape[0],1)),X])  "
      ],
      "execution_count": 23,
      "outputs": []
    },
    {
      "cell_type": "code",
      "metadata": {
        "id": "z_WcoQLAcQDQ"
      },
      "source": [
        "#Define classification model\n",
        "weight = np.zeros(X.shape[1])"
      ],
      "execution_count": 24,
      "outputs": []
    },
    {
      "cell_type": "code",
      "metadata": {
        "id": "A9thAQOIckGD"
      },
      "source": [
        "#Define evaluation metrics\n",
        "def accuracy(X, Y, weight):\n",
        "    '''\n",
        "    Evaluate the model, represented by `weight`, with data (X, Y).\n",
        "    \n",
        "    Input:\n",
        "        X:      data features\n",
        "        Y:      data labels\n",
        "        weight: model weights\n",
        "    Ouput:\n",
        "        Model accuracy on input data.\n",
        "    '''\n",
        "    result = (X@weight > 0) == Y\n",
        "    acc = np.sum(result)/result.size\n",
        "    return acc "
      ],
      "execution_count": 30,
      "outputs": []
    },
    {
      "cell_type": "code",
      "metadata": {
        "id": "1KAUwBKBNzza"
      },
      "source": [
        "#Hyperparameters\n",
        "# learning rate\n",
        "alpha = 1e-2\n",
        "# epochs\n",
        "epoch = 10000"
      ],
      "execution_count": 26,
      "outputs": []
    },
    {
      "cell_type": "code",
      "metadata": {
        "colab": {
          "base_uri": "https://localhost:8080/"
        },
        "id": "YM2a4zG3ODZH",
        "outputId": "a75945be-40e1-4f62-8af0-bbf7cdbfbd01"
      },
      "source": [
        "#Train the model\n",
        "def sigmoid(z):\n",
        "  return 1 / (1 + np.exp(-z))\n",
        "def lost_function(X,Y,weight):\n",
        "  h = sigmoid(X@weight)\n",
        "  l = -np.sum(Y*np.log(h)+(1-Y)*np.log(1-h))/(Y.size)\n",
        "  return l\n",
        "for _ in range(epoch):\n",
        "  w = X.T@(sigmoid(X@weight) - Y) / (Y.size)\n",
        "  weight -= alpha*w\n",
        "print(weight)"
      ],
      "execution_count": 27,
      "outputs": [
        {
          "output_type": "stream",
          "text": [
            "[ 0.12047504 -0.44156746 -0.89309501  2.965364    3.3427994 ]\n"
          ],
          "name": "stdout"
        }
      ]
    },
    {
      "cell_type": "code",
      "metadata": {
        "id": "BZ7yMX_BRmYY"
      },
      "source": [
        "# just to double check\n",
        "assert np.allclose(weight, np.array([0.12047504, -0.44156746, -0.89309501, 2.965364, 3.3427994]))"
      ],
      "execution_count": 28,
      "outputs": []
    },
    {
      "cell_type": "code",
      "metadata": {
        "colab": {
          "base_uri": "https://localhost:8080/"
        },
        "id": "zVUu0BawSXvi",
        "outputId": "5457211e-0b08-4bad-932b-ff61ea3ae37c"
      },
      "source": [
        "# model accuracy\n",
        "accuracy(X, Y, weight)"
      ],
      "execution_count": 31,
      "outputs": [
        {
          "output_type": "execute_result",
          "data": {
            "text/plain": [
              "0.96"
            ]
          },
          "metadata": {
            "tags": []
          },
          "execution_count": 31
        }
      ]
    },
    {
      "cell_type": "code",
      "metadata": {
        "colab": {
          "base_uri": "https://localhost:8080/"
        },
        "id": "ZRuRW2CJSY3f",
        "outputId": "2c15ae56-594d-4bf4-cd60-9ffc6a64ea41"
      },
      "source": [
        "# do some fun code here and try to match this :)\n",
        "weight = np.array([-0.35439119, -1.62584216, -2.21192859,  7.74567601,  7.72844057])\n",
        "print('Weights:', weight)\n",
        "y = 1 / (1 + np.exp(-X @ weight))\n",
        "loss = -np.sum(Y * np.log(y) + (1 - Y) * np.log(1 - y)) / y.size\n",
        "print('Loss:', loss)\n",
        "print('Accuracy:', accuracy(X, Y, weight))"
      ],
      "execution_count": 32,
      "outputs": [
        {
          "output_type": "stream",
          "text": [
            "Weights: [-0.35439119 -1.62584216 -2.21192859  7.74567601  7.72844057]\n",
            "Loss: 0.0594927339567942\n",
            "Accuracy: 0.98\n"
          ],
          "name": "stdout"
        }
      ]
    },
    {
      "cell_type": "code",
      "metadata": {
        "id": "j82z1KF5SiNk"
      },
      "source": [
        ""
      ],
      "execution_count": null,
      "outputs": []
    }
  ]
}